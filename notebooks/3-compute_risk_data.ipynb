{
 "cells": [
  {
   "cell_type": "markdown",
   "id": "b812b26b",
   "metadata": {},
   "source": [
    "# Compute Risk"
   ]
  },
  {
   "cell_type": "markdown",
   "id": "843d64a1",
   "metadata": {},
   "source": [
    "- Set the necessary values for each column to pass from a string to a number\n",
    "- Compute the total risk and set the limit value "
   ]
  },
  {
   "cell_type": "code",
   "execution_count": null,
   "id": "13cc1198",
   "metadata": {},
   "outputs": [],
   "source": [
    "import pandas as pd"
   ]
  },
  {
   "cell_type": "code",
   "execution_count": null,
   "id": "55243138",
   "metadata": {},
   "outputs": [],
   "source": [
    "data = pd.read_excel(\"../data/2-Processed/FForms-Results-Translated.csv\")"
   ]
  },
  {
   "cell_type": "markdown",
   "id": "f8cfc22d",
   "metadata": {},
   "source": [
    "# Export to another file"
   ]
  },
  {
   "cell_type": "markdown",
   "id": "410d3882",
   "metadata": {},
   "source": [
    "- Export to a basic file that will be used to create the dashboard basic documentation"
   ]
  },
  {
   "cell_type": "code",
   "execution_count": null,
   "id": "2927a284",
   "metadata": {},
   "outputs": [],
   "source": [
    "data.to_csv('../data/2-Processed/Forms-Results-Compute_Risk.csv', index=False)  "
   ]
  }
 ],
 "metadata": {
  "kernelspec": {
   "display_name": "Python 3",
   "language": "python",
   "name": "python3"
  },
  "language_info": {
   "name": "python",
   "version": "3.13.2"
  }
 },
 "nbformat": 4,
 "nbformat_minor": 5
}
