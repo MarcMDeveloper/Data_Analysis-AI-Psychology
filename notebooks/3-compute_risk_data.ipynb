{
 "cells": [
  {
   "cell_type": "markdown",
   "id": "b812b26b",
   "metadata": {},
   "source": [
    "# Compute Risk"
   ]
  },
  {
   "cell_type": "markdown",
   "id": "843d64a1",
   "metadata": {},
   "source": [
    "- Set the necessary values for each column to pass from a string to a number\n",
    "- Compute the total risk and set the limit value using the using Wellbeing scale and the likert notation (read final report for more detail)"
   ]
  },
  {
   "cell_type": "code",
   "execution_count": 1,
   "id": "13cc1198",
   "metadata": {},
   "outputs": [],
   "source": [
    "import pandas as pd\n",
    "import copy"
   ]
  },
  {
   "cell_type": "code",
   "execution_count": 2,
   "id": "55243138",
   "metadata": {},
   "outputs": [
    {
     "data": {
      "text/html": [
       "<div>\n",
       "<style scoped>\n",
       "    .dataframe tbody tr th:only-of-type {\n",
       "        vertical-align: middle;\n",
       "    }\n",
       "\n",
       "    .dataframe tbody tr th {\n",
       "        vertical-align: top;\n",
       "    }\n",
       "\n",
       "    .dataframe thead th {\n",
       "        text-align: right;\n",
       "    }\n",
       "</style>\n",
       "<table border=\"1\" class=\"dataframe\">\n",
       "  <thead>\n",
       "    <tr style=\"text-align: right;\">\n",
       "      <th></th>\n",
       "      <th>ID</th>\n",
       "      <th>Age</th>\n",
       "      <th>Occupation</th>\n",
       "      <th>Gender</th>\n",
       "      <th>Education Level</th>\n",
       "      <th>Country</th>\n",
       "      <th>How often do you use AI tools?</th>\n",
       "      <th>What do you primarily use AI tools for?</th>\n",
       "      <th>Do you feel more productive when using AI tools?</th>\n",
       "      <th>Do you believe overuse of AI can negatively affect mental health or problem-solving skills?</th>\n",
       "      <th>Do you know someone that use AI as  conversational partner?</th>\n",
       "      <th>I feel more confident in solving problems on my own without AI assistance.</th>\n",
       "      <th>Using AI makes me feel mentally lazy.</th>\n",
       "      <th>Relying on AI helps reduce my stress.</th>\n",
       "      <th>AI tools make me second-guess my own knowledge or decisions.</th>\n",
       "      <th>Its recomendable for people to use AI as conversational partner</th>\n",
       "      <th>What application with AI would you like to exist?</th>\n",
       "    </tr>\n",
       "  </thead>\n",
       "  <tbody>\n",
       "    <tr>\n",
       "      <th>55</th>\n",
       "      <td>55</td>\n",
       "      <td>18-24</td>\n",
       "      <td>Student</td>\n",
       "      <td>Female</td>\n",
       "      <td>Bachelor’s Degree</td>\n",
       "      <td>Spain</td>\n",
       "      <td>Never</td>\n",
       "      <td>[\"Don't use\"]</td>\n",
       "      <td>No</td>\n",
       "      <td>Yes</td>\n",
       "      <td>No</td>\n",
       "      <td>Strongly Agree</td>\n",
       "      <td>Agree</td>\n",
       "      <td>Strongly Disagree</td>\n",
       "      <td>Agree</td>\n",
       "      <td>Disagree</td>\n",
       "      <td>NaN</td>\n",
       "    </tr>\n",
       "    <tr>\n",
       "      <th>56</th>\n",
       "      <td>56</td>\n",
       "      <td>18-24</td>\n",
       "      <td>Student</td>\n",
       "      <td>Male</td>\n",
       "      <td>Bachelor’s Degree</td>\n",
       "      <td>Colombia</td>\n",
       "      <td>Several times a week</td>\n",
       "      <td>['Studying or learning', ' Creative writing or...</td>\n",
       "      <td>No</td>\n",
       "      <td>Yes</td>\n",
       "      <td>Yes</td>\n",
       "      <td>Agree</td>\n",
       "      <td>Neutral</td>\n",
       "      <td>Neutral</td>\n",
       "      <td>Neutral</td>\n",
       "      <td>Strongly Disagree</td>\n",
       "      <td>IA para monitoreo de salud, actividad física o...</td>\n",
       "    </tr>\n",
       "    <tr>\n",
       "      <th>57</th>\n",
       "      <td>57</td>\n",
       "      <td>25-34</td>\n",
       "      <td>Biologist</td>\n",
       "      <td>Female</td>\n",
       "      <td>Master’s Degree</td>\n",
       "      <td>Spain</td>\n",
       "      <td>Several times a week</td>\n",
       "      <td>['Work/professional tasks']</td>\n",
       "      <td>No</td>\n",
       "      <td>Yes</td>\n",
       "      <td>Yes</td>\n",
       "      <td>Strongly Agree</td>\n",
       "      <td>Neutral</td>\n",
       "      <td>Neutral</td>\n",
       "      <td>Agree</td>\n",
       "      <td>Strongly Disagree</td>\n",
       "      <td>Me gustaria una aplicación de organización de ...</td>\n",
       "    </tr>\n",
       "    <tr>\n",
       "      <th>58</th>\n",
       "      <td>58</td>\n",
       "      <td>25-34</td>\n",
       "      <td>Unemployed</td>\n",
       "      <td>Male</td>\n",
       "      <td>Bachelor’s Degree</td>\n",
       "      <td>Andorra</td>\n",
       "      <td>Several times a week</td>\n",
       "      <td>['Work/professional tasks', ' Entertainment']</td>\n",
       "      <td>Yes</td>\n",
       "      <td>No</td>\n",
       "      <td>Yes</td>\n",
       "      <td>Neutral</td>\n",
       "      <td>Disagree</td>\n",
       "      <td>Agree</td>\n",
       "      <td>Disagree</td>\n",
       "      <td>Agree</td>\n",
       "      <td>Por ahora no se me ocurre ninguna</td>\n",
       "    </tr>\n",
       "    <tr>\n",
       "      <th>59</th>\n",
       "      <td>59</td>\n",
       "      <td>25-34</td>\n",
       "      <td>Unemployed</td>\n",
       "      <td>Female</td>\n",
       "      <td>Other</td>\n",
       "      <td>Spain</td>\n",
       "      <td>Several times a week</td>\n",
       "      <td>['Entertainment', ' Others']</td>\n",
       "      <td>Yes</td>\n",
       "      <td>No</td>\n",
       "      <td>Yes</td>\n",
       "      <td>Neutral</td>\n",
       "      <td>Neutral</td>\n",
       "      <td>Agree</td>\n",
       "      <td>Neutral</td>\n",
       "      <td>Agree</td>\n",
       "      <td>NaN</td>\n",
       "    </tr>\n",
       "  </tbody>\n",
       "</table>\n",
       "</div>"
      ],
      "text/plain": [
       "    ID    Age  Occupation  Gender    Education Level   Country  \\\n",
       "55  55  18-24     Student  Female  Bachelor’s Degree     Spain   \n",
       "56  56  18-24     Student    Male  Bachelor’s Degree  Colombia   \n",
       "57  57  25-34   Biologist  Female    Master’s Degree     Spain   \n",
       "58  58  25-34  Unemployed    Male  Bachelor’s Degree   Andorra   \n",
       "59  59  25-34  Unemployed  Female              Other     Spain   \n",
       "\n",
       "   How often do you use AI tools?  \\\n",
       "55                          Never   \n",
       "56           Several times a week   \n",
       "57           Several times a week   \n",
       "58           Several times a week   \n",
       "59           Several times a week   \n",
       "\n",
       "              What do you primarily use AI tools for?  \\\n",
       "55                                      [\"Don't use\"]   \n",
       "56  ['Studying or learning', ' Creative writing or...   \n",
       "57                        ['Work/professional tasks']   \n",
       "58      ['Work/professional tasks', ' Entertainment']   \n",
       "59                       ['Entertainment', ' Others']   \n",
       "\n",
       "   Do you feel more productive when using AI tools?  \\\n",
       "55                                               No   \n",
       "56                                               No   \n",
       "57                                               No   \n",
       "58                                              Yes   \n",
       "59                                              Yes   \n",
       "\n",
       "   Do you believe overuse of AI can negatively affect mental health or problem-solving skills?  \\\n",
       "55                                                Yes                                            \n",
       "56                                                Yes                                            \n",
       "57                                                Yes                                            \n",
       "58                                                 No                                            \n",
       "59                                                 No                                            \n",
       "\n",
       "   Do you know someone that use AI as  conversational partner?  \\\n",
       "55                                                 No            \n",
       "56                                                Yes            \n",
       "57                                                Yes            \n",
       "58                                                Yes            \n",
       "59                                                Yes            \n",
       "\n",
       "   I feel more confident in solving problems on my own without AI assistance.  \\\n",
       "55                                     Strongly Agree                           \n",
       "56                                              Agree                           \n",
       "57                                     Strongly Agree                           \n",
       "58                                            Neutral                           \n",
       "59                                            Neutral                           \n",
       "\n",
       "   Using AI makes me feel mentally lazy.  \\\n",
       "55                                 Agree   \n",
       "56                               Neutral   \n",
       "57                               Neutral   \n",
       "58                              Disagree   \n",
       "59                               Neutral   \n",
       "\n",
       "   Relying on AI helps reduce my stress.  \\\n",
       "55                     Strongly Disagree   \n",
       "56                               Neutral   \n",
       "57                               Neutral   \n",
       "58                                 Agree   \n",
       "59                                 Agree   \n",
       "\n",
       "   AI tools make me second-guess my own knowledge or decisions.  \\\n",
       "55                                              Agree             \n",
       "56                                            Neutral             \n",
       "57                                              Agree             \n",
       "58                                           Disagree             \n",
       "59                                            Neutral             \n",
       "\n",
       "   Its recomendable for people to use AI as conversational partner  \\\n",
       "55                                           Disagree                \n",
       "56                                  Strongly Disagree                \n",
       "57                                  Strongly Disagree                \n",
       "58                                              Agree                \n",
       "59                                              Agree                \n",
       "\n",
       "    What application with AI would you like to exist?  \n",
       "55                                                NaN  \n",
       "56  IA para monitoreo de salud, actividad física o...  \n",
       "57  Me gustaria una aplicación de organización de ...  \n",
       "58                  Por ahora no se me ocurre ninguna  \n",
       "59                                                NaN  "
      ]
     },
     "execution_count": 2,
     "metadata": {},
     "output_type": "execute_result"
    }
   ],
   "source": [
    "data = pd.read_csv(\"../data/2-Processed/Forms-Results-Translated.csv\")\n",
    "data.tail()"
   ]
  },
  {
   "cell_type": "code",
   "execution_count": 3,
   "id": "683b7a4a",
   "metadata": {},
   "outputs": [
    {
     "data": {
      "text/plain": [
       "Index(['ID', 'Age', 'Occupation', 'Gender', 'Education Level', 'Country',\n",
       "       'How often do you use AI tools?',\n",
       "       'What do you primarily use AI tools for?',\n",
       "       'Do you feel more productive when using AI tools?',\n",
       "       'Do you believe overuse of AI can negatively affect mental health or problem-solving skills?',\n",
       "       'Do you know someone that use AI as  conversational partner?',\n",
       "       'I feel more confident in solving problems on my own without AI assistance.',\n",
       "       'Using AI makes me feel mentally lazy.',\n",
       "       'Relying on AI helps reduce my stress.',\n",
       "       'AI tools make me second-guess my own knowledge or decisions.',\n",
       "       'Its recomendable for people to use AI as conversational partner',\n",
       "       'What application with AI would you like to exist?'],\n",
       "      dtype='object')"
      ]
     },
     "execution_count": 3,
     "metadata": {},
     "output_type": "execute_result"
    }
   ],
   "source": [
    "data.keys()"
   ]
  },
  {
   "cell_type": "markdown",
   "id": "1df19728",
   "metadata": {},
   "source": [
    "- Erase unused columns for risk"
   ]
  },
  {
   "cell_type": "code",
   "execution_count": 4,
   "id": "1b8dfcb6",
   "metadata": {},
   "outputs": [],
   "source": [
    "data = data.drop(columns=['Age',\n",
    "                          'Occupation',\n",
    "                          'Gender',\n",
    "                          'Country',\n",
    "                          'What application with AI would you like to exist?'])"
   ]
  },
  {
   "cell_type": "markdown",
   "id": "abcd7d6d",
   "metadata": {},
   "source": [
    "- Divide the questions usyng Ryff's scale and we will compute from that scale"
   ]
  },
  {
   "cell_type": "code",
   "execution_count": 5,
   "id": "f5ff6a5b",
   "metadata": {},
   "outputs": [],
   "source": [
    "ryffmap_output = {\n",
    "    'Self-Acceptance' : {\n",
    "        'Relying on AI helps reduce my stress.' : 0,\n",
    "        'AI tools make me second-guess my own knowledge or decisions.' : 0,\n",
    "        'Using AI makes me feel mentally lazy.' : 0\n",
    "    },\n",
    "    'Positive Relations with Others' : {\n",
    "        'Do you know someone that use AI as  conversational partner?' : 0,\n",
    "        'Its recomendable for people to use AI as conversational partner' : 0\n",
    "    },\n",
    "    'Autonomy' : {\n",
    "        'I feel more confident in solving problems on my own without AI assistance.' : 0,\n",
    "        'Do you believe overuse of AI can negatively affect mental health or problem-solving skills?' : 0,\n",
    "        'AI tools make me second-guess my own knowledge or decisions.' : 0\n",
    "    },\n",
    "    'Environmental Mastery' : {\n",
    "        'Do you feel more productive when using AI tools?' : 0,\n",
    "        'How often do you use AI tools?' : 0,\n",
    "        'Relying on AI helps reduce my stress.' : 0\n",
    "    },\n",
    "    'Purpose in Life' : {\n",
    "        'What do you primarily use AI tools for?' : 0\n",
    "    },\n",
    "    'Personal Growth' : {\n",
    "        'Do you believe overuse of AI can negatively affect mental health or problem-solving skills?' : 0,\n",
    "        'Using AI makes me feel mentally lazy.' : 0,\n",
    "        'What do you primarily use AI tools for?' : 0\n",
    "    }\n",
    "}\n",
    "\n",
    "list_ryffmap_output = []\n",
    "list_ryffmap_output = [copy.deepcopy(ryffmap_output) for _ in data['ID']]"
   ]
  },
  {
   "cell_type": "markdown",
   "id": "2c1e9302",
   "metadata": {},
   "source": [
    "- Use the likert notation to compute the scale "
   ]
  },
  {
   "cell_type": "code",
   "execution_count": 6,
   "id": "19edcf6d",
   "metadata": {},
   "outputs": [],
   "source": [
    "likert_map = {\n",
    "    # Strongly agree to strongly disagree\n",
    "    'Strongly Agree': 5,\n",
    "    'Agree': 4,\n",
    "    'Neutral': 3,\n",
    "    'Disagree': 2,\n",
    "    'Strongly Disagree': 1,\n",
    "\n",
    "    # Yes No question\n",
    "    'Yes': 4,\n",
    "    'No': 2,\n",
    "\n",
    "    # Using rate of the AI\n",
    "    'Daily': 5,\n",
    "    'Several times a week': 4,\n",
    "    'Occasionally': 3,\n",
    "    'Rarely': 2,\n",
    "    'Never': 1,\n",
    "}"
   ]
  },
  {
   "cell_type": "markdown",
   "id": "c525b95e",
   "metadata": {},
   "source": [
    "- We will compute by dimensions (each column of the question its a dimension)"
   ]
  },
  {
   "cell_type": "code",
   "execution_count": 7,
   "id": "a216159f",
   "metadata": {},
   "outputs": [],
   "source": [
    "def ComputeRiskValue(column):\n",
    "    # Check column and get the likert value\n",
    "    idx = 0\n",
    "    for element in data[column]:\n",
    "        # Get the map value\n",
    "        value = likert_map[element]\n",
    "        \n",
    "        # Check on the list of outputs take one output and compute the data\n",
    "        for dimension, subelement in list_ryffmap_output[idx].items():\n",
    "            if column in subelement:\n",
    "                list_ryffmap_output[idx][dimension][column] = value\n",
    "           \n",
    "        idx += 1\n",
    "    "
   ]
  },
  {
   "cell_type": "code",
   "execution_count": 8,
   "id": "b9ecd7ff",
   "metadata": {},
   "outputs": [
    {
     "name": "stdout",
     "output_type": "stream",
     "text": [
      "{'Self-Acceptance': {'Relying on AI helps reduce my stress.': 4, 'AI tools make me second-guess my own knowledge or decisions.': 4, 'Using AI makes me feel mentally lazy.': 2}, 'Positive Relations with Others': {'Do you know someone that use AI as  conversational partner?': 4, 'Its recomendable for people to use AI as conversational partner': 3}, 'Autonomy': {'I feel more confident in solving problems on my own without AI assistance.': 4, 'Do you believe overuse of AI can negatively affect mental health or problem-solving skills?': 4, 'AI tools make me second-guess my own knowledge or decisions.': 4}, 'Environmental Mastery': {'Do you feel more productive when using AI tools?': 4, 'How often do you use AI tools?': 5, 'Relying on AI helps reduce my stress.': 4}, 'Purpose in Life': {'What do you primarily use AI tools for?': 0}, 'Personal Growth': {'Do you believe overuse of AI can negatively affect mental health or problem-solving skills?': 4, 'Using AI makes me feel mentally lazy.': 2, 'What do you primarily use AI tools for?': 0}}\n",
      "{'Self-Acceptance': {'Relying on AI helps reduce my stress.': 3, 'AI tools make me second-guess my own knowledge or decisions.': 1, 'Using AI makes me feel mentally lazy.': 2}, 'Positive Relations with Others': {'Do you know someone that use AI as  conversational partner?': 2, 'Its recomendable for people to use AI as conversational partner': 2}, 'Autonomy': {'I feel more confident in solving problems on my own without AI assistance.': 1, 'Do you believe overuse of AI can negatively affect mental health or problem-solving skills?': 4, 'AI tools make me second-guess my own knowledge or decisions.': 1}, 'Environmental Mastery': {'Do you feel more productive when using AI tools?': 4, 'How often do you use AI tools?': 5, 'Relying on AI helps reduce my stress.': 3}, 'Purpose in Life': {'What do you primarily use AI tools for?': 0}, 'Personal Growth': {'Do you believe overuse of AI can negatively affect mental health or problem-solving skills?': 4, 'Using AI makes me feel mentally lazy.': 2, 'What do you primarily use AI tools for?': 0}}\n"
     ]
    }
   ],
   "source": [
    "ComputeRiskValue('How often do you use AI tools?')\n",
    "ComputeRiskValue('Do you feel more productive when using AI tools?')\n",
    "ComputeRiskValue('Relying on AI helps reduce my stress.')\n",
    "ComputeRiskValue('AI tools make me second-guess my own knowledge or decisions.')\n",
    "ComputeRiskValue('I feel more confident in solving problems on my own without AI assistance.')\n",
    "ComputeRiskValue('Using AI makes me feel mentally lazy.')\n",
    "ComputeRiskValue('Do you believe overuse of AI can negatively affect mental health or problem-solving skills?')\n",
    "ComputeRiskValue('Do you know someone that use AI as  conversational partner?')\n",
    "ComputeRiskValue('Its recomendable for people to use AI as conversational partner')\n",
    "\n",
    "print(list_ryffmap_output[0])\n",
    "print(list_ryffmap_output[1])"
   ]
  },
  {
   "cell_type": "markdown",
   "id": "82fd8574",
   "metadata": {},
   "source": [
    "- Now that we have the computations of each dimension we will do the final computation to get the score of each dimension"
   ]
  },
  {
   "cell_type": "code",
   "execution_count": 9,
   "id": "fd41cd12",
   "metadata": {},
   "outputs": [],
   "source": [
    "ryffmap_rate = {\n",
    "    'Self-Acceptance' :  0,\n",
    "    'Positive Relations with Others': 0,\n",
    "    'Autonomy' :  0,\n",
    "    'Environmental Mastery' : 0,\n",
    "    'Purpose in Life' : 0,\n",
    "    'Personal Growth' : 0\n",
    "}\n",
    "\n",
    "list_rate_output = []    \n",
    "list_rate_output = [copy.deepcopy(ryffmap_rate) for _ in data['ID']]"
   ]
  },
  {
   "cell_type": "code",
   "execution_count": 10,
   "id": "b6a7a203",
   "metadata": {},
   "outputs": [
    {
     "name": "stdout",
     "output_type": "stream",
     "text": [
      "{'Self-Acceptance': 3.3333333333333335, 'Positive Relations with Others': 3.5, 'Autonomy': 4.0, 'Environmental Mastery': 4.333333333333333, 'Purpose in Life': 0.0, 'Personal Growth': 2.0}\n",
      "{'Self-Acceptance': 2.0, 'Positive Relations with Others': 2.0, 'Autonomy': 2.0, 'Environmental Mastery': 4.0, 'Purpose in Life': 0.0, 'Personal Growth': 2.0}\n"
     ]
    }
   ],
   "source": [
    "# Loop through all the list of rates\n",
    "for idx, output in enumerate(list_ryffmap_output):\n",
    "    # Check all the elements \n",
    "    for dimension, subelement in output.items():\n",
    "        count = 0\n",
    "        result = 0\n",
    "        for element in subelement:\n",
    "            result += (list_ryffmap_output[idx][dimension][element])\n",
    "            count += 1\n",
    "        \n",
    "        list_rate_output[idx][dimension] =  result/count\n",
    "\n",
    "print(list_rate_output[0])\n",
    "print(list_rate_output[1])"
   ]
  },
  {
   "cell_type": "markdown",
   "id": "4e8745d0",
   "metadata": {},
   "source": [
    "- Transform it to a new data"
   ]
  },
  {
   "cell_type": "code",
   "execution_count": 11,
   "id": "7f8103d5",
   "metadata": {},
   "outputs": [
    {
     "data": {
      "text/html": [
       "<div>\n",
       "<style scoped>\n",
       "    .dataframe tbody tr th:only-of-type {\n",
       "        vertical-align: middle;\n",
       "    }\n",
       "\n",
       "    .dataframe tbody tr th {\n",
       "        vertical-align: top;\n",
       "    }\n",
       "\n",
       "    .dataframe thead th {\n",
       "        text-align: right;\n",
       "    }\n",
       "</style>\n",
       "<table border=\"1\" class=\"dataframe\">\n",
       "  <thead>\n",
       "    <tr style=\"text-align: right;\">\n",
       "      <th></th>\n",
       "      <th>Self-Acceptance</th>\n",
       "      <th>Positive Relations with Others</th>\n",
       "      <th>Autonomy</th>\n",
       "      <th>Environmental Mastery</th>\n",
       "      <th>Purpose in Life</th>\n",
       "      <th>Personal Growth</th>\n",
       "      <th>ID</th>\n",
       "    </tr>\n",
       "  </thead>\n",
       "  <tbody>\n",
       "    <tr>\n",
       "      <th>0</th>\n",
       "      <td>3.333333</td>\n",
       "      <td>3.5</td>\n",
       "      <td>4.000000</td>\n",
       "      <td>4.333333</td>\n",
       "      <td>0.0</td>\n",
       "      <td>2.0</td>\n",
       "      <td>0</td>\n",
       "    </tr>\n",
       "    <tr>\n",
       "      <th>1</th>\n",
       "      <td>2.000000</td>\n",
       "      <td>2.0</td>\n",
       "      <td>2.000000</td>\n",
       "      <td>4.000000</td>\n",
       "      <td>0.0</td>\n",
       "      <td>2.0</td>\n",
       "      <td>1</td>\n",
       "    </tr>\n",
       "    <tr>\n",
       "      <th>2</th>\n",
       "      <td>4.333333</td>\n",
       "      <td>3.5</td>\n",
       "      <td>4.333333</td>\n",
       "      <td>4.000000</td>\n",
       "      <td>0.0</td>\n",
       "      <td>3.0</td>\n",
       "      <td>2</td>\n",
       "    </tr>\n",
       "    <tr>\n",
       "      <th>3</th>\n",
       "      <td>3.000000</td>\n",
       "      <td>3.0</td>\n",
       "      <td>3.333333</td>\n",
       "      <td>3.666667</td>\n",
       "      <td>0.0</td>\n",
       "      <td>2.0</td>\n",
       "      <td>3</td>\n",
       "    </tr>\n",
       "    <tr>\n",
       "      <th>4</th>\n",
       "      <td>3.000000</td>\n",
       "      <td>1.5</td>\n",
       "      <td>4.000000</td>\n",
       "      <td>1.333333</td>\n",
       "      <td>0.0</td>\n",
       "      <td>3.0</td>\n",
       "      <td>4</td>\n",
       "    </tr>\n",
       "  </tbody>\n",
       "</table>\n",
       "</div>"
      ],
      "text/plain": [
       "   Self-Acceptance  Positive Relations with Others  Autonomy  \\\n",
       "0         3.333333                             3.5  4.000000   \n",
       "1         2.000000                             2.0  2.000000   \n",
       "2         4.333333                             3.5  4.333333   \n",
       "3         3.000000                             3.0  3.333333   \n",
       "4         3.000000                             1.5  4.000000   \n",
       "\n",
       "   Environmental Mastery  Purpose in Life  Personal Growth  ID  \n",
       "0               4.333333              0.0              2.0   0  \n",
       "1               4.000000              0.0              2.0   1  \n",
       "2               4.000000              0.0              3.0   2  \n",
       "3               3.666667              0.0              2.0   3  \n",
       "4               1.333333              0.0              3.0   4  "
      ]
     },
     "execution_count": 11,
     "metadata": {},
     "output_type": "execute_result"
    }
   ],
   "source": [
    "risk_rate = pd.DataFrame(list_rate_output)\n",
    "\n",
    "risk_rate['ID'] = data['ID']\n",
    "\n",
    "risk_rate.head()"
   ]
  },
  {
   "cell_type": "markdown",
   "id": "cb27eaf3",
   "metadata": {},
   "source": [
    "- Plot"
   ]
  },
  {
   "cell_type": "code",
   "execution_count": 45,
   "id": "f8698195",
   "metadata": {},
   "outputs": [],
   "source": [
    "import plotly.express as px\n",
    "plotRate = risk_rate\n",
    "\n",
    "plotRate = plotRate.drop(columns =['ID', 'Purpose in Life'])\n"
   ]
  },
  {
   "cell_type": "code",
   "execution_count": 52,
   "id": "42e80f6f",
   "metadata": {},
   "outputs": [
    {
     "data": {
      "application/vnd.plotly.v1+json": {
       "config": {
        "plotlyServerURL": "https://plot.ly"
       },
       "data": [
        {
         "coloraxis": "coloraxis",
         "hovertemplate": "Ryff Scale Questions: %{x}<br>ID: %{y}<br>Risk: %{z}<extra></extra>",
         "name": "0",
         "texttemplate": "%{z}",
         "type": "heatmap",
         "x": [
          "Self-Acceptance",
          "Positive Relations with Others",
          "Autonomy",
          "Environmental Mastery",
          "Personal Growth"
         ],
         "xaxis": "x",
         "y": {
          "bdata": "AAECAwQFBgcICQoLDA0ODxAREhMUFRYXGBkaGxwdHh8gISIjJCUmJygpKissLS4vMDEyMzQ1Njc4OTo7",
          "dtype": "i1"
         },
         "yaxis": "y",
         "z": {
          "bdata": "q6qqqqqqCkAAAAAAAAAMQAAAAAAAABBAVVVVVVVVEUAAAAAAAAAAQAAAAAAAAABAAAAAAAAAAEAAAAAAAAAAQAAAAAAAABBAAAAAAAAAAEBVVVVVVVURQAAAAAAAAAxAVVVVVVVVEUAAAAAAAAAQQAAAAAAAAAhAAAAAAAAACEAAAAAAAAAIQKuqqqqqqgpAVVVVVVVVDUAAAAAAAAAAQAAAAAAAAAhAAAAAAAAA+D8AAAAAAAAQQFVVVVVVVfU/AAAAAAAACEAAAAAAAAAQQAAAAAAAAPg/VVVVVVVVEUBVVVVVVVURQKuqqqqqqgJAq6qqqqqqAkAAAAAAAAAMQAAAAAAAAAhAVVVVVVVVDUCrqqqqqqoCQFVVVVVVVQVAAAAAAAAABEAAAAAAAAAIQAAAAAAAABBAAAAAAAAAAECrqqqqqqoKQAAAAAAAAAhAq6qqqqqqCkAAAAAAAAAQQKuqqqqqqvo/VVVVVVVVDUAAAAAAAAAEQAAAAAAAAAhAq6qqqqqqCkAAAAAAAAAAQKuqqqqqqvo/AAAAAAAACEBVVVVVVVX1PwAAAAAAABBAAAAAAAAA8D9VVVVVVVUNQAAAAAAAAARAAAAAAAAAEECrqqqqqqoKQFVVVVVVVQVAAAAAAAAAEEAAAAAAAAAMQKuqqqqqqgpAAAAAAAAAEEAAAAAAAAAIQAAAAAAAAABAAAAAAAAAAECrqqqqqqoCQKuqqqqqqgpAq6qqqqqqAkAAAAAAAAAIQAAAAAAAAARAAAAAAAAAAEBVVVVVVVUNQAAAAAAAAABAAAAAAAAAAEAAAAAAAAD4P6uqqqqqqgJAVVVVVVVVDUAAAAAAAADwP1VVVVVVVQ1AAAAAAAAA+D+rqqqqqqoKQAAAAAAAABBAVVVVVVVVBUCrqqqqqqoKQAAAAAAAAABAAAAAAAAAEECrqqqqqqoCQKuqqqqqqgJAVVVVVVVV9T8AAAAAAAAMQFVVVVVVVQVAVVVVVVVVDUCrqqqqqqr6PwAAAAAAAAhAAAAAAAAA+D9VVVVVVVURQKuqqqqqqvo/VVVVVVVVBUBVVVVVVVURQAAAAAAAAARAAAAAAAAAEEBVVVVVVVUNQAAAAAAAAAhAVVVVVVVVBUAAAAAAAAD4P1VVVVVVVQ1Aq6qqqqqq+j9VVVVVVVUFQKuqqqqqqgpAAAAAAAAA+D8AAAAAAAAQQAAAAAAAAABAVVVVVVVVBUCrqqqqqqoCQAAAAAAAAARAAAAAAAAAAEBVVVVVVVUNQFVVVVVVVfU/AAAAAAAACEAAAAAAAAAEQFVVVVVVVQ1AAAAAAAAAEEBVVVVVVVUFQFVVVVVVVQVAAAAAAAAA+D+rqqqqqqoKQFVVVVVVVQ1AVVVVVVVVBUBVVVVVVVUNQAAAAAAAAARAAAAAAAAAEEAAAAAAAAAAQAAAAAAAAAhAAAAAAAAACEAAAAAAAAAMQAAAAAAAAAhAAAAAAAAACEBVVVVVVVUFQKuqqqqqqgpAAAAAAAAACECrqqqqqqoKQKuqqqqqqhJAAAAAAAAAAECrqqqqqqoSQAAAAAAAAARAVVVVVVVVDUBVVVVVVVUNQAAAAAAAAAhAq6qqqqqqCkAAAAAAAAAQQFVVVVVVVQVAVVVVVVVVEUCrqqqqqqr6P6uqqqqqqgJAAAAAAAAACECrqqqqqqoCQAAAAAAAABBAVVVVVVVV9T9VVVVVVVUFQAAAAAAAAABAVVVVVVVVDUCrqqqqqqoCQKuqqqqqqgJAq6qqqqqqAkAAAAAAAAAEQAAAAAAAAABAVVVVVVVVDUBVVVVVVVX1PwAAAAAAAAhAAAAAAAAABEAAAAAAAAAQQFVVVVVVVQ1AAAAAAAAAAECrqqqqqqoCQAAAAAAAAPg/q6qqqqqqCkBVVVVVVVUNQAAAAAAAAABAVVVVVVVVDUAAAAAAAAAIQFVVVVVVVQVAAAAAAAAAEEAAAAAAAAAAQKuqqqqqqgpAAAAAAAAAAEAAAAAAAAAQQAAAAAAAABBAVVVVVVVVBUAAAAAAAAAIQAAAAAAAAARAVVVVVVVVDUCrqqqqqqr6PwAAAAAAAAhAAAAAAAAACEAAAAAAAAAEQKuqqqqqqgpAAAAAAAAACECrqqqqqqoCQKuqqqqqqvo/AAAAAAAADEAAAAAAAAAAQAAAAAAAAAhAAAAAAAAA8D9VVVVVVVUFQAAAAAAAAARAVVVVVVVVBUBVVVVVVVUNQFVVVVVVVQVAAAAAAAAACEAAAAAAAAAIQFVVVVVVVQ1Aq6qqqqqqCkBVVVVVVVUFQFVVVVVVVQ1AAAAAAAAABEBVVVVVVVUNQKuqqqqqqgJAVVVVVVVVBUAAAAAAAAAAQAAAAAAAAPg/AAAAAAAACEAAAAAAAAAAQAAAAAAAAABAAAAAAAAACEAAAAAAAAD4P6uqqqqqqgpAq6qqqqqq+j+rqqqqqqoCQFVVVVVVVQVAAAAAAAAA+D8AAAAAAAAIQFVVVVVVVRFAAAAAAAAAAEAAAAAAAAAIQAAAAAAAAAxAVVVVVVVVBUAAAAAAAAAAQKuqqqqqqvo/q6qqqqqqCkAAAAAAAAAEQFVVVVVVVQVAVVVVVVVVEUCrqqqqqqr6P1VVVVVVVQ1AAAAAAAAA+D9VVVVVVVURQFVVVVVVVQVAAAAAAAAACEBVVVVVVVX1PwAAAAAAAABAVVVVVVVV9T8AAAAAAAAIQFVVVVVVVfU/VVVVVVVVBUAAAAAAAAAIQKuqqqqqqgpAAAAAAAAAEEAAAAAAAAAAQFVVVVVVVQVAAAAAAAAAAEAAAAAAAAAIQAAAAAAAAAhAVVVVVVVV9T+rqqqqqqr6PwAAAAAAAABAq6qqqqqqCkBVVVVVVVX1P6uqqqqqqgJAq6qqqqqqAkAAAAAAAAAEQKuqqqqqqgpAq6qqqqqq+j8AAAAAAAAIQAAAAAAAAAhAAAAAAAAAAEBVVVVVVVURQFVVVVVVVfU/VVVVVVVVBUAAAAAAAAAIQAAAAAAAAARAVVVVVVVVDUAAAAAAAAAIQKuqqqqqqgJAq6qqqqqqCkAAAAAAAAAEQFVVVVVVVRFAAAAAAAAACECrqqqqqqoCQFVVVVVVVQVAAAAAAAAAEECrqqqqqqoCQAAAAAAAABBAVVVVVVVV9T+rqqqqqqoKQAAAAAAAABBAVVVVVVVVBUAAAAAAAAAQQKuqqqqqqvo/",
          "dtype": "f8",
          "shape": "60, 5"
         }
        }
       ],
       "layout": {
        "coloraxis": {
         "cmax": 4,
         "cmin": 0,
         "colorbar": {
          "title": {
           "text": "Risk"
          }
         },
         "colorscale": [
          [
           0,
           "#0d0887"
          ],
          [
           0.1111111111111111,
           "#46039f"
          ],
          [
           0.2222222222222222,
           "#7201a8"
          ],
          [
           0.3333333333333333,
           "#9c179e"
          ],
          [
           0.4444444444444444,
           "#bd3786"
          ],
          [
           0.5555555555555556,
           "#d8576b"
          ],
          [
           0.6666666666666666,
           "#ed7953"
          ],
          [
           0.7777777777777778,
           "#fb9f3a"
          ],
          [
           0.8888888888888888,
           "#fdca26"
          ],
          [
           1,
           "#f0f921"
          ]
         ]
        },
        "height": 1150,
        "margin": {
         "t": 60
        },
        "template": {
         "data": {
          "bar": [
           {
            "error_x": {
             "color": "#2a3f5f"
            },
            "error_y": {
             "color": "#2a3f5f"
            },
            "marker": {
             "line": {
              "color": "#E5ECF6",
              "width": 0.5
             },
             "pattern": {
              "fillmode": "overlay",
              "size": 10,
              "solidity": 0.2
             }
            },
            "type": "bar"
           }
          ],
          "barpolar": [
           {
            "marker": {
             "line": {
              "color": "#E5ECF6",
              "width": 0.5
             },
             "pattern": {
              "fillmode": "overlay",
              "size": 10,
              "solidity": 0.2
             }
            },
            "type": "barpolar"
           }
          ],
          "carpet": [
           {
            "aaxis": {
             "endlinecolor": "#2a3f5f",
             "gridcolor": "white",
             "linecolor": "white",
             "minorgridcolor": "white",
             "startlinecolor": "#2a3f5f"
            },
            "baxis": {
             "endlinecolor": "#2a3f5f",
             "gridcolor": "white",
             "linecolor": "white",
             "minorgridcolor": "white",
             "startlinecolor": "#2a3f5f"
            },
            "type": "carpet"
           }
          ],
          "choropleth": [
           {
            "colorbar": {
             "outlinewidth": 0,
             "ticks": ""
            },
            "type": "choropleth"
           }
          ],
          "contour": [
           {
            "colorbar": {
             "outlinewidth": 0,
             "ticks": ""
            },
            "colorscale": [
             [
              0,
              "#0d0887"
             ],
             [
              0.1111111111111111,
              "#46039f"
             ],
             [
              0.2222222222222222,
              "#7201a8"
             ],
             [
              0.3333333333333333,
              "#9c179e"
             ],
             [
              0.4444444444444444,
              "#bd3786"
             ],
             [
              0.5555555555555556,
              "#d8576b"
             ],
             [
              0.6666666666666666,
              "#ed7953"
             ],
             [
              0.7777777777777778,
              "#fb9f3a"
             ],
             [
              0.8888888888888888,
              "#fdca26"
             ],
             [
              1,
              "#f0f921"
             ]
            ],
            "type": "contour"
           }
          ],
          "contourcarpet": [
           {
            "colorbar": {
             "outlinewidth": 0,
             "ticks": ""
            },
            "type": "contourcarpet"
           }
          ],
          "heatmap": [
           {
            "colorbar": {
             "outlinewidth": 0,
             "ticks": ""
            },
            "colorscale": [
             [
              0,
              "#0d0887"
             ],
             [
              0.1111111111111111,
              "#46039f"
             ],
             [
              0.2222222222222222,
              "#7201a8"
             ],
             [
              0.3333333333333333,
              "#9c179e"
             ],
             [
              0.4444444444444444,
              "#bd3786"
             ],
             [
              0.5555555555555556,
              "#d8576b"
             ],
             [
              0.6666666666666666,
              "#ed7953"
             ],
             [
              0.7777777777777778,
              "#fb9f3a"
             ],
             [
              0.8888888888888888,
              "#fdca26"
             ],
             [
              1,
              "#f0f921"
             ]
            ],
            "type": "heatmap"
           }
          ],
          "histogram": [
           {
            "marker": {
             "pattern": {
              "fillmode": "overlay",
              "size": 10,
              "solidity": 0.2
             }
            },
            "type": "histogram"
           }
          ],
          "histogram2d": [
           {
            "colorbar": {
             "outlinewidth": 0,
             "ticks": ""
            },
            "colorscale": [
             [
              0,
              "#0d0887"
             ],
             [
              0.1111111111111111,
              "#46039f"
             ],
             [
              0.2222222222222222,
              "#7201a8"
             ],
             [
              0.3333333333333333,
              "#9c179e"
             ],
             [
              0.4444444444444444,
              "#bd3786"
             ],
             [
              0.5555555555555556,
              "#d8576b"
             ],
             [
              0.6666666666666666,
              "#ed7953"
             ],
             [
              0.7777777777777778,
              "#fb9f3a"
             ],
             [
              0.8888888888888888,
              "#fdca26"
             ],
             [
              1,
              "#f0f921"
             ]
            ],
            "type": "histogram2d"
           }
          ],
          "histogram2dcontour": [
           {
            "colorbar": {
             "outlinewidth": 0,
             "ticks": ""
            },
            "colorscale": [
             [
              0,
              "#0d0887"
             ],
             [
              0.1111111111111111,
              "#46039f"
             ],
             [
              0.2222222222222222,
              "#7201a8"
             ],
             [
              0.3333333333333333,
              "#9c179e"
             ],
             [
              0.4444444444444444,
              "#bd3786"
             ],
             [
              0.5555555555555556,
              "#d8576b"
             ],
             [
              0.6666666666666666,
              "#ed7953"
             ],
             [
              0.7777777777777778,
              "#fb9f3a"
             ],
             [
              0.8888888888888888,
              "#fdca26"
             ],
             [
              1,
              "#f0f921"
             ]
            ],
            "type": "histogram2dcontour"
           }
          ],
          "mesh3d": [
           {
            "colorbar": {
             "outlinewidth": 0,
             "ticks": ""
            },
            "type": "mesh3d"
           }
          ],
          "parcoords": [
           {
            "line": {
             "colorbar": {
              "outlinewidth": 0,
              "ticks": ""
             }
            },
            "type": "parcoords"
           }
          ],
          "pie": [
           {
            "automargin": true,
            "type": "pie"
           }
          ],
          "scatter": [
           {
            "fillpattern": {
             "fillmode": "overlay",
             "size": 10,
             "solidity": 0.2
            },
            "type": "scatter"
           }
          ],
          "scatter3d": [
           {
            "line": {
             "colorbar": {
              "outlinewidth": 0,
              "ticks": ""
             }
            },
            "marker": {
             "colorbar": {
              "outlinewidth": 0,
              "ticks": ""
             }
            },
            "type": "scatter3d"
           }
          ],
          "scattercarpet": [
           {
            "marker": {
             "colorbar": {
              "outlinewidth": 0,
              "ticks": ""
             }
            },
            "type": "scattercarpet"
           }
          ],
          "scattergeo": [
           {
            "marker": {
             "colorbar": {
              "outlinewidth": 0,
              "ticks": ""
             }
            },
            "type": "scattergeo"
           }
          ],
          "scattergl": [
           {
            "marker": {
             "colorbar": {
              "outlinewidth": 0,
              "ticks": ""
             }
            },
            "type": "scattergl"
           }
          ],
          "scattermap": [
           {
            "marker": {
             "colorbar": {
              "outlinewidth": 0,
              "ticks": ""
             }
            },
            "type": "scattermap"
           }
          ],
          "scattermapbox": [
           {
            "marker": {
             "colorbar": {
              "outlinewidth": 0,
              "ticks": ""
             }
            },
            "type": "scattermapbox"
           }
          ],
          "scatterpolar": [
           {
            "marker": {
             "colorbar": {
              "outlinewidth": 0,
              "ticks": ""
             }
            },
            "type": "scatterpolar"
           }
          ],
          "scatterpolargl": [
           {
            "marker": {
             "colorbar": {
              "outlinewidth": 0,
              "ticks": ""
             }
            },
            "type": "scatterpolargl"
           }
          ],
          "scatterternary": [
           {
            "marker": {
             "colorbar": {
              "outlinewidth": 0,
              "ticks": ""
             }
            },
            "type": "scatterternary"
           }
          ],
          "surface": [
           {
            "colorbar": {
             "outlinewidth": 0,
             "ticks": ""
            },
            "colorscale": [
             [
              0,
              "#0d0887"
             ],
             [
              0.1111111111111111,
              "#46039f"
             ],
             [
              0.2222222222222222,
              "#7201a8"
             ],
             [
              0.3333333333333333,
              "#9c179e"
             ],
             [
              0.4444444444444444,
              "#bd3786"
             ],
             [
              0.5555555555555556,
              "#d8576b"
             ],
             [
              0.6666666666666666,
              "#ed7953"
             ],
             [
              0.7777777777777778,
              "#fb9f3a"
             ],
             [
              0.8888888888888888,
              "#fdca26"
             ],
             [
              1,
              "#f0f921"
             ]
            ],
            "type": "surface"
           }
          ],
          "table": [
           {
            "cells": {
             "fill": {
              "color": "#EBF0F8"
             },
             "line": {
              "color": "white"
             }
            },
            "header": {
             "fill": {
              "color": "#C8D4E3"
             },
             "line": {
              "color": "white"
             }
            },
            "type": "table"
           }
          ]
         },
         "layout": {
          "annotationdefaults": {
           "arrowcolor": "#2a3f5f",
           "arrowhead": 0,
           "arrowwidth": 1
          },
          "autotypenumbers": "strict",
          "coloraxis": {
           "colorbar": {
            "outlinewidth": 0,
            "ticks": ""
           }
          },
          "colorscale": {
           "diverging": [
            [
             0,
             "#8e0152"
            ],
            [
             0.1,
             "#c51b7d"
            ],
            [
             0.2,
             "#de77ae"
            ],
            [
             0.3,
             "#f1b6da"
            ],
            [
             0.4,
             "#fde0ef"
            ],
            [
             0.5,
             "#f7f7f7"
            ],
            [
             0.6,
             "#e6f5d0"
            ],
            [
             0.7,
             "#b8e186"
            ],
            [
             0.8,
             "#7fbc41"
            ],
            [
             0.9,
             "#4d9221"
            ],
            [
             1,
             "#276419"
            ]
           ],
           "sequential": [
            [
             0,
             "#0d0887"
            ],
            [
             0.1111111111111111,
             "#46039f"
            ],
            [
             0.2222222222222222,
             "#7201a8"
            ],
            [
             0.3333333333333333,
             "#9c179e"
            ],
            [
             0.4444444444444444,
             "#bd3786"
            ],
            [
             0.5555555555555556,
             "#d8576b"
            ],
            [
             0.6666666666666666,
             "#ed7953"
            ],
            [
             0.7777777777777778,
             "#fb9f3a"
            ],
            [
             0.8888888888888888,
             "#fdca26"
            ],
            [
             1,
             "#f0f921"
            ]
           ],
           "sequentialminus": [
            [
             0,
             "#0d0887"
            ],
            [
             0.1111111111111111,
             "#46039f"
            ],
            [
             0.2222222222222222,
             "#7201a8"
            ],
            [
             0.3333333333333333,
             "#9c179e"
            ],
            [
             0.4444444444444444,
             "#bd3786"
            ],
            [
             0.5555555555555556,
             "#d8576b"
            ],
            [
             0.6666666666666666,
             "#ed7953"
            ],
            [
             0.7777777777777778,
             "#fb9f3a"
            ],
            [
             0.8888888888888888,
             "#fdca26"
            ],
            [
             1,
             "#f0f921"
            ]
           ]
          },
          "colorway": [
           "#636efa",
           "#EF553B",
           "#00cc96",
           "#ab63fa",
           "#FFA15A",
           "#19d3f3",
           "#FF6692",
           "#B6E880",
           "#FF97FF",
           "#FECB52"
          ],
          "font": {
           "color": "#2a3f5f"
          },
          "geo": {
           "bgcolor": "white",
           "lakecolor": "white",
           "landcolor": "#E5ECF6",
           "showlakes": true,
           "showland": true,
           "subunitcolor": "white"
          },
          "hoverlabel": {
           "align": "left"
          },
          "hovermode": "closest",
          "mapbox": {
           "style": "light"
          },
          "paper_bgcolor": "white",
          "plot_bgcolor": "#E5ECF6",
          "polar": {
           "angularaxis": {
            "gridcolor": "white",
            "linecolor": "white",
            "ticks": ""
           },
           "bgcolor": "#E5ECF6",
           "radialaxis": {
            "gridcolor": "white",
            "linecolor": "white",
            "ticks": ""
           }
          },
          "scene": {
           "xaxis": {
            "backgroundcolor": "#E5ECF6",
            "gridcolor": "white",
            "gridwidth": 2,
            "linecolor": "white",
            "showbackground": true,
            "ticks": "",
            "zerolinecolor": "white"
           },
           "yaxis": {
            "backgroundcolor": "#E5ECF6",
            "gridcolor": "white",
            "gridwidth": 2,
            "linecolor": "white",
            "showbackground": true,
            "ticks": "",
            "zerolinecolor": "white"
           },
           "zaxis": {
            "backgroundcolor": "#E5ECF6",
            "gridcolor": "white",
            "gridwidth": 2,
            "linecolor": "white",
            "showbackground": true,
            "ticks": "",
            "zerolinecolor": "white"
           }
          },
          "shapedefaults": {
           "line": {
            "color": "#2a3f5f"
           }
          },
          "ternary": {
           "aaxis": {
            "gridcolor": "white",
            "linecolor": "white",
            "ticks": ""
           },
           "baxis": {
            "gridcolor": "white",
            "linecolor": "white",
            "ticks": ""
           },
           "bgcolor": "#E5ECF6",
           "caxis": {
            "gridcolor": "white",
            "linecolor": "white",
            "ticks": ""
           }
          },
          "title": {
           "x": 0.05
          },
          "xaxis": {
           "automargin": true,
           "gridcolor": "white",
           "linecolor": "white",
           "ticks": "",
           "title": {
            "standoff": 15
           },
           "zerolinecolor": "white",
           "zerolinewidth": 2
          },
          "yaxis": {
           "automargin": true,
           "gridcolor": "white",
           "linecolor": "white",
           "ticks": "",
           "title": {
            "standoff": 15
           },
           "zerolinecolor": "white",
           "zerolinewidth": 2
          }
         }
        },
        "xaxis": {
         "anchor": "y",
         "constrain": "domain",
         "domain": [
          0,
          1
         ],
         "scaleanchor": "y",
         "side": "top",
         "title": {
          "text": "Ryff Scale Questions"
         }
        },
        "yaxis": {
         "anchor": "x",
         "autorange": "reversed",
         "constrain": "domain",
         "domain": [
          0,
          1
         ],
         "title": {
          "text": "ID"
         }
        }
       }
      }
     },
     "metadata": {},
     "output_type": "display_data"
    }
   ],
   "source": [
    "fig = px.imshow(plotRate, \n",
    "                 labels=dict(x=\"Ryff Scale Questions\", y=\"ID\", color=\"Risk\"),\n",
    "                text_auto=True,  zmin = 0, zmax= 4,height=1150)\n",
    "fig.update_xaxes(side=\"top\")\n",
    "fig.show()"
   ]
  },
  {
   "cell_type": "markdown",
   "id": "9dbda025",
   "metadata": {},
   "source": [
    "- Detect Risk"
   ]
  },
  {
   "cell_type": "code",
   "execution_count": null,
   "id": "a98eb3ca",
   "metadata": {},
   "outputs": [
    {
     "name": "stdout",
     "output_type": "stream",
     "text": [
      "Current Risk: 4.291666666666667\n",
      "Not recommended psychologist\n"
     ]
    }
   ],
   "source": [
    "def DetectRisk(row):\n",
    "    row_selected = plotRate.iloc[row]\n",
    "    result = 0\n",
    "    for element in row_selected:\n",
    "        result+=element\n",
    "\n",
    "    result /=4\n",
    "    print(f\"Current Risk: {result}\")\n",
    "    if(result < 2.5):\n",
    "        print(\"Recommended psychologist\")\n",
    "    else:\n",
    "        print(\"Not recommended psychologist\")\n",
    "\n",
    "\n",
    "DetectRisk(50)"
   ]
  },
  {
   "cell_type": "markdown",
   "id": "f8cfc22d",
   "metadata": {},
   "source": [
    "# Export to another file"
   ]
  },
  {
   "cell_type": "markdown",
   "id": "410d3882",
   "metadata": {},
   "source": [
    "- Export to a basic file that will be used to create the dashboard basic documentation"
   ]
  },
  {
   "cell_type": "code",
   "execution_count": 53,
   "id": "2927a284",
   "metadata": {},
   "outputs": [],
   "source": [
    "data.to_csv('../data/2-Processed/Forms-Results-Compute_Risk.csv', index=False)  \n",
    "plotRate.to_csv('../data/2-Processed/Computed_Risk_Values.csv', index=False)  "
   ]
  }
 ],
 "metadata": {
  "kernelspec": {
   "display_name": "Python 3",
   "language": "python",
   "name": "python3"
  },
  "language_info": {
   "codemirror_mode": {
    "name": "ipython",
    "version": 3
   },
   "file_extension": ".py",
   "mimetype": "text/x-python",
   "name": "python",
   "nbconvert_exporter": "python",
   "pygments_lexer": "ipython3",
   "version": "3.13.2"
  }
 },
 "nbformat": 4,
 "nbformat_minor": 5
}
