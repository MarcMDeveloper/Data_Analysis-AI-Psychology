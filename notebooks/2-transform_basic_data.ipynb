{
 "cells": [
  {
   "cell_type": "markdown",
   "id": "80d78099",
   "metadata": {},
   "source": [
    "# Transform data"
   ]
  },
  {
   "cell_type": "markdown",
   "id": "a2a35fd7",
   "metadata": {},
   "source": [
    "- Erase the unessary data to do the basic analysis"
   ]
  },
  {
   "cell_type": "code",
   "execution_count": 2,
   "id": "c5872d7f",
   "metadata": {},
   "outputs": [],
   "source": [
    "import pandas as pd"
   ]
  },
  {
   "cell_type": "code",
   "execution_count": null,
   "id": "e2226aec",
   "metadata": {},
   "outputs": [],
   "source": [
    "data = pd.read_excel(\"../data/2-Processed/FForms-Results-Translated.csv\")"
   ]
  },
  {
   "cell_type": "markdown",
   "id": "afe305f3",
   "metadata": {},
   "source": [
    "# Export to another file"
   ]
  },
  {
   "cell_type": "markdown",
   "id": "72f3e09a",
   "metadata": {},
   "source": [
    "- Export to a basic file that will be used to create the dashboard basic documentation"
   ]
  },
  {
   "cell_type": "code",
   "execution_count": null,
   "id": "ab1ba301",
   "metadata": {},
   "outputs": [],
   "source": [
    "data.to_csv('../data/2-Processed/Forms-Results-Basic_Data.csv', index=False)  "
   ]
  }
 ],
 "metadata": {
  "kernelspec": {
   "display_name": "Python 3",
   "language": "python",
   "name": "python3"
  },
  "language_info": {
   "codemirror_mode": {
    "name": "ipython",
    "version": 3
   },
   "file_extension": ".py",
   "mimetype": "text/x-python",
   "name": "python",
   "nbconvert_exporter": "python",
   "pygments_lexer": "ipython3",
   "version": "3.13.2"
  }
 },
 "nbformat": 4,
 "nbformat_minor": 5
}
