{
 "cells": [
  {
   "cell_type": "markdown",
   "id": "80d78099",
   "metadata": {},
   "source": [
    "# Transform data"
   ]
  },
  {
   "cell_type": "markdown",
   "id": "a2a35fd7",
   "metadata": {},
   "source": [
    "- Erase the unessary data to do the basic analysis (rows that are to compute risk or not necessary in this part)"
   ]
  },
  {
   "cell_type": "code",
   "execution_count": null,
   "id": "c5872d7f",
   "metadata": {},
   "outputs": [],
   "source": [
    "import pandas as pd\n",
    "from sklearn.preprocessing import MultiLabelBinarizer"
   ]
  },
  {
   "cell_type": "code",
   "execution_count": 5,
   "id": "e2226aec",
   "metadata": {},
   "outputs": [],
   "source": [
    "data = pd.read_csv(\"../data/2-Processed/Forms-Results-Translated.csv\")"
   ]
  },
  {
   "cell_type": "code",
   "execution_count": 6,
   "id": "5caf2d32",
   "metadata": {},
   "outputs": [],
   "source": [
    "data = data.drop(columns=['I feel more confident in solving problems on my own without AI assistance.',\n",
    "                          'Using AI makes me feel mentally lazy.',\n",
    "                          'Relying on AI helps reduce my stress.',\n",
    "                          'AI tools make me second-guess my own knowledge or decisions.',\n",
    "                          'Its recomendable for people to use AI as conversational partner',\n",
    "                          'What application with AI would you like to exist?'])"
   ]
  },
  {
   "cell_type": "code",
   "execution_count": 15,
   "id": "3bb6afdc",
   "metadata": {},
   "outputs": [
    {
     "data": {
      "text/html": [
       "<div>\n",
       "<style scoped>\n",
       "    .dataframe tbody tr th:only-of-type {\n",
       "        vertical-align: middle;\n",
       "    }\n",
       "\n",
       "    .dataframe tbody tr th {\n",
       "        vertical-align: top;\n",
       "    }\n",
       "\n",
       "    .dataframe thead th {\n",
       "        text-align: right;\n",
       "    }\n",
       "</style>\n",
       "<table border=\"1\" class=\"dataframe\">\n",
       "  <thead>\n",
       "    <tr style=\"text-align: right;\">\n",
       "      <th></th>\n",
       "      <th>ID</th>\n",
       "      <th>Age</th>\n",
       "      <th>Occupation</th>\n",
       "      <th>Gender</th>\n",
       "      <th>Education Level</th>\n",
       "      <th>Country</th>\n",
       "      <th>How often do you use AI tools?</th>\n",
       "      <th>What do you primarily use AI tools for?</th>\n",
       "      <th>Do you feel more productive when using AI tools?</th>\n",
       "      <th>Do you believe overuse of AI can negatively affect mental health or problem-solving skills?</th>\n",
       "      <th>Do you know someone that use AI as  conversational partner?</th>\n",
       "    </tr>\n",
       "  </thead>\n",
       "  <tbody>\n",
       "    <tr>\n",
       "      <th>0</th>\n",
       "      <td>0</td>\n",
       "      <td>25-34</td>\n",
       "      <td>Analyst</td>\n",
       "      <td>Female</td>\n",
       "      <td>Master’s Degree</td>\n",
       "      <td>Germany</td>\n",
       "      <td>Daily</td>\n",
       "      <td>['Studying or learning']</td>\n",
       "      <td>Yes</td>\n",
       "      <td>Yes</td>\n",
       "      <td>Yes</td>\n",
       "    </tr>\n",
       "    <tr>\n",
       "      <th>1</th>\n",
       "      <td>1</td>\n",
       "      <td>25-34</td>\n",
       "      <td>Lead Project Coordinator at A University</td>\n",
       "      <td>Male</td>\n",
       "      <td>Master’s Degree</td>\n",
       "      <td>Spain</td>\n",
       "      <td>Daily</td>\n",
       "      <td>['Work/professional tasks']</td>\n",
       "      <td>Yes</td>\n",
       "      <td>Yes</td>\n",
       "      <td>No</td>\n",
       "    </tr>\n",
       "    <tr>\n",
       "      <th>2</th>\n",
       "      <td>2</td>\n",
       "      <td>25-34</td>\n",
       "      <td>Unemployed</td>\n",
       "      <td>Female</td>\n",
       "      <td>Bachelor’s Degree</td>\n",
       "      <td>Spain</td>\n",
       "      <td>Several times a week</td>\n",
       "      <td>['Studying or learning']</td>\n",
       "      <td>Yes</td>\n",
       "      <td>Yes</td>\n",
       "      <td>Yes</td>\n",
       "    </tr>\n",
       "    <tr>\n",
       "      <th>3</th>\n",
       "      <td>3</td>\n",
       "      <td>18-24</td>\n",
       "      <td>Game Writer</td>\n",
       "      <td>Female</td>\n",
       "      <td>Bachelor’s Degree</td>\n",
       "      <td>Australia</td>\n",
       "      <td>Rarely</td>\n",
       "      <td>['Inspiration for work']</td>\n",
       "      <td>Yes</td>\n",
       "      <td>Yes</td>\n",
       "      <td>No</td>\n",
       "    </tr>\n",
       "    <tr>\n",
       "      <th>4</th>\n",
       "      <td>4</td>\n",
       "      <td>18-24</td>\n",
       "      <td>Freelance artist</td>\n",
       "      <td>Trans</td>\n",
       "      <td>Bachelor’s Degree</td>\n",
       "      <td>Canada</td>\n",
       "      <td>Never</td>\n",
       "      <td>[\"Don't use\"]</td>\n",
       "      <td>No</td>\n",
       "      <td>Yes</td>\n",
       "      <td>No</td>\n",
       "    </tr>\n",
       "  </tbody>\n",
       "</table>\n",
       "</div>"
      ],
      "text/plain": [
       "   ID    Age                                Occupation  Gender  \\\n",
       "0   0  25-34                                   Analyst  Female   \n",
       "1   1  25-34  Lead Project Coordinator at A University    Male   \n",
       "2   2  25-34                                Unemployed  Female   \n",
       "3   3  18-24                               Game Writer  Female   \n",
       "4   4  18-24                          Freelance artist   Trans   \n",
       "\n",
       "     Education Level    Country How often do you use AI tools?  \\\n",
       "0    Master’s Degree    Germany                          Daily   \n",
       "1    Master’s Degree      Spain                          Daily   \n",
       "2  Bachelor’s Degree      Spain           Several times a week   \n",
       "3  Bachelor’s Degree  Australia                         Rarely   \n",
       "4  Bachelor’s Degree     Canada                          Never   \n",
       "\n",
       "  What do you primarily use AI tools for?  \\\n",
       "0                ['Studying or learning']   \n",
       "1             ['Work/professional tasks']   \n",
       "2                ['Studying or learning']   \n",
       "3                ['Inspiration for work']   \n",
       "4                           [\"Don't use\"]   \n",
       "\n",
       "  Do you feel more productive when using AI tools?  \\\n",
       "0                                              Yes   \n",
       "1                                              Yes   \n",
       "2                                              Yes   \n",
       "3                                              Yes   \n",
       "4                                               No   \n",
       "\n",
       "  Do you believe overuse of AI can negatively affect mental health or problem-solving skills?  \\\n",
       "0                                                Yes                                            \n",
       "1                                                Yes                                            \n",
       "2                                                Yes                                            \n",
       "3                                                Yes                                            \n",
       "4                                                Yes                                            \n",
       "\n",
       "  Do you know someone that use AI as  conversational partner?  \n",
       "0                                                Yes           \n",
       "1                                                 No           \n",
       "2                                                Yes           \n",
       "3                                                 No           \n",
       "4                                                 No           "
      ]
     },
     "execution_count": 15,
     "metadata": {},
     "output_type": "execute_result"
    }
   ],
   "source": [
    "data.head()"
   ]
  },
  {
   "cell_type": "markdown",
   "id": "59f4352b",
   "metadata": {},
   "source": [
    "- Separate the row of \"What do you primarily use AI tools for?\" from a list into different columns so can be read in tableau."
   ]
  },
  {
   "cell_type": "code",
   "execution_count": null,
   "id": "b9752da0",
   "metadata": {},
   "outputs": [
    {
     "data": {
      "text/plain": [
       "<Axes: title={'center': 'AI Tool Usage Purposes'}>"
      ]
     },
     "execution_count": 14,
     "metadata": {},
     "output_type": "execute_result"
    },
    {
     "data": {
      "image/png": "[encoded data removed]",
      "text/plain": [
       "<Figure size 640x480 with 1 Axes>"
      ]
     },
     "metadata": {},
     "output_type": "display_data"
    }
   ],
   "source": [
    "# Step 1: Convert the string representation of lists to actual lists\n",
    "data = data.rename(columns={'What do you primarily use AI tools for?': 'AI_Use_List'})\n",
    "\n",
    "# Step 2: One-hot encode the list directly (since it's already a list!)\n",
    "mlb = MultiLabelBinarizer()\n",
    "encoded_df = pd.DataFrame(mlb.fit_transform(data['AI_Use_List']),\n",
    "                          columns=mlb.classes_,\n",
    "                          index=data.index)\n",
    "\n",
    "# Step 3: Combine with original data \n",
    "data_with_flags = pd.concat([data, encoded_df], axis=1)\n",
    "\n",
    "# Step 4: Plot usage frequencies\n",
    "usage_summary = data_with_flags[mlb.classes_].sum().sort_values(ascending=False)\n",
    "usage_summary.plot(kind='bar', title='AI Tool Usage Purposes')"
   ]
  },
  {
   "cell_type": "code",
   "execution_count": 17,
   "id": "2d0e7949",
   "metadata": {},
   "outputs": [
    {
     "data": {
      "text/plain": [
       "Index(['ID', 'Age', 'Occupation', 'Gender', 'Education Level', 'Country',\n",
       "       'How often do you use AI tools?', 'AI_Use_List',\n",
       "       'Do you feel more productive when using AI tools?',\n",
       "       'Do you believe overuse of AI can negatively affect mental health or problem-solving skills?',\n",
       "       'Do you know someone that use AI as  conversational partner?',\n",
       "       ' Creative writing or art', ' Entertainment', ' Others',\n",
       "       ' Social media content', ' Work/professional tasks', 'Don't use',\n",
       "       'Entertainment', 'Inspiration for work', 'Others',\n",
       "       'Studying or learning', 'Work/professional tasks'],\n",
       "      dtype='object')"
      ]
     },
     "execution_count": 17,
     "metadata": {},
     "output_type": "execute_result"
    }
   ],
   "source": [
    "data_with_flags.keys()"
   ]
  },
  {
   "cell_type": "markdown",
   "id": "afe305f3",
   "metadata": {},
   "source": [
    "# Export to another file"
   ]
  },
  {
   "cell_type": "markdown",
   "id": "72f3e09a",
   "metadata": {},
   "source": [
    "- Export to a basic file that will be used to create the dashboard basic documentation"
   ]
  },
  {
   "cell_type": "code",
   "execution_count": 18,
   "id": "ab1ba301",
   "metadata": {},
   "outputs": [],
   "source": [
    "data_with_flags.to_csv('../data/2-Processed/Forms-Results-Basic_Data.csv', index=False)  "
   ]
  }
 ],
 "metadata": {
  "kernelspec": {
   "display_name": "Python 3",
   "language": "python",
   "name": "python3"
  },
  "language_info": {
   "codemirror_mode": {
    "name": "ipython",
    "version": 3
   },
   "file_extension": ".py",
   "mimetype": "text/x-python",
   "name": "python",
   "nbconvert_exporter": "python",
   "pygments_lexer": "ipython3",
   "version": "3.13.2"
  }
 },
 "nbformat": 4,
 "nbformat_minor": 5
}
